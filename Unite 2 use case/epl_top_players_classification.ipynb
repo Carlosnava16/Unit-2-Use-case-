{
 "cells": [
  {
   "cell_type": "markdown",
   "id": "3734eff4",
   "metadata": {},
   "source": [
    "# Clasificación de los Mejores Jugadores de la Premier League (2024–2025)\n",
    "### 👥 Autores: [Tu nombre y el de tu compañero]\n",
    "### 🎓 Curso: Machine Learning - Unit 2\n",
    "### 📁 Dataset: epl_player_stats_24_25.csv\n",
    "\n",
    "---\n",
    "\n",
    "## 1. Dataset Selection\n",
    "\n",
    "Este proyecto tiene como objetivo clasificar a los jugadores de la Premier League en **Top Players** (rendimiento ofensivo destacado) y **No Top Players**, usando como criterio la suma de **Goles + Asistencias**.\n",
    "\n",
    "- Se eligió un dataset con más de 8 características (hay 30+ después de limpieza).\n",
    "- La variable objetivo es **`TopPlayer`**, definida como `1` si el jugador está en el top 25% en goles+asistencias, y `0` en caso contrario.\n",
    "- Es un problema realista, relevante y completamente resoluble mediante algoritmos de clasificación.\n"
   ]
  },
  {
   "cell_type": "code",
   "execution_count": null,
   "id": "b27b845a",
   "metadata": {},
   "outputs": [],
   "source": [
    "\n",
    "import pandas as pd\n",
    "import numpy as np\n",
    "import seaborn as sns\n",
    "import matplotlib.pyplot as plt\n",
    "from sklearn.preprocessing import StandardScaler\n",
    "from sklearn.model_selection import train_test_split\n",
    "from sklearn.linear_model import LogisticRegression\n",
    "from sklearn.tree import DecisionTreeClassifier\n",
    "from sklearn.ensemble import RandomForestClassifier\n",
    "from sklearn.metrics import (\n",
    "    accuracy_score, precision_score, recall_score, f1_score,\n",
    "    confusion_matrix, ConfusionMatrixDisplay\n",
    ")\n",
    "\n",
    "# Leer el dataset\n",
    "df = pd.read_csv(\"epl_player_stats_24_25.csv\")\n",
    "\n",
    "# Crear variable Total_Goals_Assists y variable objetivo\n",
    "df[\"Total_Goals_Assists\"] = df[\"Goals\"] + df[\"Assists\"]\n",
    "threshold = df[\"Total_Goals_Assists\"].quantile(0.75)\n",
    "df[\"TopPlayer\"] = (df[\"Total_Goals_Assists\"] >= threshold).astype(int)\n"
   ]
  },
  {
   "cell_type": "code",
   "execution_count": null,
   "id": "8af9f9c6",
   "metadata": {},
   "outputs": [],
   "source": [
    "\n",
    "# Eliminación de columnas irrelevantes o específicas de porteros\n",
    "df.drop(columns=[\"Red Cards\"], inplace=True)\n",
    "df.drop(columns=[\"Saves\"], inplace=True)\n",
    "df.drop(columns=[\"Saves %\"], inplace=True)\n",
    "df.drop(columns=[\"Penalties Saved\"], inplace=True)\n",
    "df.drop(columns=[\"Clearances Off Line\"], inplace=True)\n",
    "df.drop(columns=[\"Punches\"], inplace=True)\n",
    "df.drop(columns=[\"High Claims\"], inplace=True)\n",
    "df.drop(columns=[\"Goals Prevented\"], inplace=True)\n",
    "\n",
    "df_clean = df.copy()\n"
   ]
  },
  {
   "cell_type": "code",
   "execution_count": null,
   "id": "f4cc530f",
   "metadata": {},
   "outputs": [],
   "source": [
    "\n",
    "features = [\n",
    "    \"Minutes\", \"Goals\", \"Assists\", \"Shots\",\n",
    "    \"Shots On Target\", \"Passes\", \"Touches\", \"Big Chances Missed\", \"TopPlayer\"\n",
    "]\n"
   ]
  },
  {
   "cell_type": "code",
   "execution_count": null,
   "id": "23f5147d",
   "metadata": {},
   "outputs": [],
   "source": [
    "\n",
    "df_clean[features].describe()\n"
   ]
  },
  {
   "cell_type": "code",
   "execution_count": null,
   "id": "62ce13f5",
   "metadata": {},
   "outputs": [],
   "source": [
    "\n",
    "df_clean[features].isnull().sum()\n"
   ]
  },
  {
   "cell_type": "code",
   "execution_count": null,
   "id": "f8d0b943",
   "metadata": {},
   "outputs": [],
   "source": [
    "\n",
    "df_clean[features].dtypes\n"
   ]
  },
  {
   "cell_type": "code",
   "execution_count": null,
   "id": "2086537e",
   "metadata": {},
   "outputs": [],
   "source": [
    "\n",
    "fig, axs = plt.subplots(4, 2, figsize=(16, 18))\n",
    "fig.suptitle(\"Exploratory Data Analysis (8 Visualizaciones)\", fontsize=18)\n",
    "\n",
    "# 1\n",
    "sns.histplot(df_clean[\"Goals\"], bins=20, kde=True, ax=axs[0, 0], color=\"blue\")\n",
    "axs[0, 0].set_title(\"Distribución de Goles\")\n",
    "# 2\n",
    "sns.histplot(df_clean[\"Assists\"], bins=20, kde=True, ax=axs[0, 1], color=\"green\")\n",
    "axs[0, 1].set_title(\"Distribución de Asistencias\")\n",
    "# 3\n",
    "sns.boxplot(data=df_clean, x=\"TopPlayer\", y=\"Minutes\", ax=axs[1, 0], palette=\"Set2\")\n",
    "axs[1, 0].set_title(\"Minutos jugados por clase\")\n",
    "# 4\n",
    "sns.scatterplot(data=df_clean, x=\"Shots\", y=\"Goals\", hue=\"TopPlayer\", ax=axs[1, 1], palette=\"coolwarm\")\n",
    "axs[1, 1].set_title(\"Shots vs Goals (Top vs No Top)\")\n",
    "# 5\n",
    "sns.countplot(data=df_clean, x=\"TopPlayer\", ax=axs[2, 0], palette=\"Set1\")\n",
    "axs[2, 0].set_title(\"Distribución de clases: TopPlayer\")\n",
    "# 6\n",
    "corr = df_clean[features].corr()\n",
    "sns.heatmap(corr, annot=True, cmap=\"coolwarm\", fmt=\".2f\", ax=axs[2, 1])\n",
    "axs[2, 1].set_title(\"Matriz de Correlación\")\n",
    "# 7\n",
    "sns.boxplot(data=df_clean, x=\"TopPlayer\", y=\"Shots On Target\", ax=axs[3, 0], palette=\"Set3\")\n",
    "axs[3, 0].set_title(\"Shots On Target por clase\")\n",
    "# 8\n",
    "sns.histplot(df_clean[\"Touches\"], bins=20, kde=True, ax=axs[3, 1], color=\"orange\")\n",
    "axs[3, 1].set_title(\"Distribución de Toques\")\n",
    "\n",
    "plt.tight_layout(rect=[0, 0.03, 1, 0.97])\n",
    "plt.show()\n"
   ]
  },
  {
   "cell_type": "code",
   "execution_count": null,
   "id": "4e21b353",
   "metadata": {},
   "outputs": [],
   "source": [
    "\n",
    "fig, axs = plt.subplots(4, 2, figsize=(16, 16))\n",
    "fig.suptitle(\"Detección de Outliers por Variable\", fontsize=18)\n",
    "\n",
    "variables = features[:-1]\n",
    "for i, var in enumerate(variables):\n",
    "    row, col = divmod(i, 2)\n",
    "    sns.boxplot(data=df_clean, y=var, ax=axs[row, col], color=\"lightblue\")\n",
    "    axs[row, col].set_title(f\"Outliers en: {var}\")\n",
    "\n",
    "plt.tight_layout(rect=[0, 0.03, 1, 0.95])\n",
    "plt.show()\n"
   ]
  },
  {
   "cell_type": "code",
   "execution_count": null,
   "id": "f197e8b5",
   "metadata": {},
   "outputs": [],
   "source": [
    "\n",
    "X = df_clean[[\n",
    "    \"Minutes\", \"Goals\", \"Assists\", \"Shots\",\n",
    "    \"Shots On Target\", \"Passes\", \"Touches\", \"Big Chances Missed\"\n",
    "]]\n",
    "y = df_clean[\"TopPlayer\"]\n",
    "\n",
    "scaler = StandardScaler()\n",
    "X_scaled = scaler.fit_transform(X)\n"
   ]
  },
  {
   "cell_type": "code",
   "execution_count": null,
   "id": "264d5046",
   "metadata": {},
   "outputs": [],
   "source": [
    "\n",
    "X_train, X_test, y_train, y_test = train_test_split(\n",
    "    X_scaled, y, test_size=0.2, random_state=42, stratify=y\n",
    ")\n"
   ]
  },
  {
   "cell_type": "code",
   "execution_count": null,
   "id": "0d286dd9",
   "metadata": {},
   "outputs": [],
   "source": [
    "\n",
    "models = {\n",
    "    \"Logistic Regression\": LogisticRegression(max_iter=1000, random_state=42),\n",
    "    \"Decision Tree\": DecisionTreeClassifier(random_state=42),\n",
    "    \"Random Forest\": RandomForestClassifier(random_state=42)\n",
    "}\n",
    "\n",
    "results = {}\n",
    "for name, model in models.items():\n",
    "    model.fit(X_train, y_train)\n",
    "    y_pred = model.predict(X_test)\n",
    "\n",
    "    results[name] = {\n",
    "        \"Accuracy\": accuracy_score(y_test, y_pred),\n",
    "        \"Precision\": precision_score(y_test, y_pred),\n",
    "        \"Recall\": recall_score(y_test, y_pred),\n",
    "        \"F1-Score\": f1_score(y_test, y_pred),\n",
    "        \"Confusion Matrix\": confusion_matrix(y_test, y_pred)\n",
    "    }\n",
    "\n",
    "results\n"
   ]
  }
 ],
 "metadata": {},
 "nbformat": 4,
 "nbformat_minor": 5
}
